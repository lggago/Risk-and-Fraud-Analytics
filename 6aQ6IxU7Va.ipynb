{
 "cells": [
  {
   "cell_type": "markdown",
   "metadata": {},
   "source": [
    "Welcome to a competition powered by AutoDSC for Data Science Challenges! By Prof. Manoel Gadi!\n",
    "\n",
    "PLEASE DO NOT RENAME THIS FILE!\n",
    "\n",
    "\n",
    "Simply run this code and start competing today in the competion: 6aQ6IxU7Va\n",
    "\n",
    "6aQ6IxU7Va details:\n",
    " - Description / Descripción: FRAUD MODELLING CHALLENGE - Predict which Credit Card Application is legitimate and which belongs to a fraudster instead.\n",
    " - Maximum number of daily attempts / Número máximo de intentos diarios: 100\n",
    " - Creation date / Fecha de creación: 2020-06-10 11:36:52\n",
    " - Starting date / Fecha de inicio: 2023-11-30 00:00:00\n",
    " - Ending date / Fecha de fin: 2023-12-14 23:59:00\n",
    " - Minimum time between prediction submissions / Tiempo mínimo entre envíos de predicciones: 60\n",
    "\n",
    "Of couse, to win the competition you should improve the starting model! So let's get to work!\n"
   ]
  },
  {
   "cell_type": "code",
   "execution_count": 1,
   "metadata": {},
   "outputs": [
    {
     "name": "stdout",
     "output_type": "stream",
     "text": [
      "IMPORTING LIBRARIES...\n",
      "LOADING DATASETS...\n"
     ]
    }
   ],
   "source": [
    "print (\"IMPORTING LIBRARIES...\")\n",
    "import pandas as pd\n",
    "\n",
    "\n",
    "print (\"LOADING DATASETS...\")\n",
    "try: # reading train csv from local file\n",
    "    df_train = pd.read_csv(\"mfalonso__6aQ6IxU7Va__train.csv\")\n",
    "    df_train.head()\n",
    "except: # reading train csv from the internet if it is the first time\n",
    "    import urllib\n",
    "    csv_train = urllib.request.urlopen(\"http://manoelutad.pythonanywhere.com/static/uploads/mfalonso__6aQ6IxU7Va__train.csv\")\n",
    "    csv_train_content = csv_train.read()\n",
    "    with open(\"mfalonso__6aQ6IxU7Va__train.csv\", 'wb') as f:\n",
    "            f.write(csv_train_content)\n",
    "    df_train = pd.read_csv(\"mfalonso__6aQ6IxU7Va__train.csv\")\n",
    "\n",
    "    \n",
    "try: # reading test csv from local file\n",
    "    df_test = pd.read_csv(\"mfalonso__6aQ6IxU7Va__test.csv\")\n",
    "    df_test.head()\n",
    "except: # reading test csv from the internet if it is the first time\n",
    "    import urllib\n",
    "    csv_test = urllib.request.urlopen(\"http://manoelutad.pythonanywhere.com/static/uploads/mfalonso__6aQ6IxU7Va__test.csv\")\n",
    "    csv_test_content = csv_test.read()\n",
    "    with open(\"mfalonso__6aQ6IxU7Va__test.csv\", 'wb') as f:\n",
    "            f.write(csv_test_content)\n",
    "    df_test = pd.read_csv(\"mfalonso__6aQ6IxU7Va__test.csv\")"
   ]
  },
  {
   "cell_type": "code",
   "execution_count": 2,
   "metadata": {},
   "outputs": [
    {
     "data": {
      "text/html": [
       "<div>\n",
       "<style scoped>\n",
       "    .dataframe tbody tr th:only-of-type {\n",
       "        vertical-align: middle;\n",
       "    }\n",
       "\n",
       "    .dataframe tbody tr th {\n",
       "        vertical-align: top;\n",
       "    }\n",
       "\n",
       "    .dataframe thead th {\n",
       "        text-align: right;\n",
       "    }\n",
       "</style>\n",
       "<table border=\"1\" class=\"dataframe\">\n",
       "  <thead>\n",
       "    <tr style=\"text-align: right;\">\n",
       "      <th></th>\n",
       "      <th>Unnamed: 0</th>\n",
       "      <th>id</th>\n",
       "      <th>ib_var_1</th>\n",
       "      <th>ib_var_2</th>\n",
       "      <th>ib_var_3</th>\n",
       "      <th>ib_var_4</th>\n",
       "      <th>ib_var_5</th>\n",
       "      <th>ib_var_6</th>\n",
       "      <th>ib_var_7</th>\n",
       "      <th>ib_var_8</th>\n",
       "      <th>...</th>\n",
       "      <th>if_var_73</th>\n",
       "      <th>if_var_74</th>\n",
       "      <th>if_var_75</th>\n",
       "      <th>if_var_76</th>\n",
       "      <th>if_var_77</th>\n",
       "      <th>if_var_78</th>\n",
       "      <th>if_var_79</th>\n",
       "      <th>if_var_80</th>\n",
       "      <th>if_var_81</th>\n",
       "      <th>ob_target</th>\n",
       "    </tr>\n",
       "  </thead>\n",
       "  <tbody>\n",
       "    <tr>\n",
       "      <th>0</th>\n",
       "      <td>0</td>\n",
       "      <td>1</td>\n",
       "      <td>0</td>\n",
       "      <td>1</td>\n",
       "      <td>0</td>\n",
       "      <td>0</td>\n",
       "      <td>1</td>\n",
       "      <td>1</td>\n",
       "      <td>0</td>\n",
       "      <td>0</td>\n",
       "      <td>...</td>\n",
       "      <td>0.800</td>\n",
       "      <td>0</td>\n",
       "      <td>6</td>\n",
       "      <td>5</td>\n",
       "      <td>0.500000</td>\n",
       "      <td>9.4634</td>\n",
       "      <td>5140.0</td>\n",
       "      <td>0.766667</td>\n",
       "      <td>1</td>\n",
       "      <td>0</td>\n",
       "    </tr>\n",
       "    <tr>\n",
       "      <th>1</th>\n",
       "      <td>1</td>\n",
       "      <td>2</td>\n",
       "      <td>0</td>\n",
       "      <td>1</td>\n",
       "      <td>0</td>\n",
       "      <td>0</td>\n",
       "      <td>0</td>\n",
       "      <td>1</td>\n",
       "      <td>0</td>\n",
       "      <td>0</td>\n",
       "      <td>...</td>\n",
       "      <td>0.925</td>\n",
       "      <td>5</td>\n",
       "      <td>8</td>\n",
       "      <td>5</td>\n",
       "      <td>0.400000</td>\n",
       "      <td>7.6341</td>\n",
       "      <td>2570.0</td>\n",
       "      <td>0.700000</td>\n",
       "      <td>4</td>\n",
       "      <td>0</td>\n",
       "    </tr>\n",
       "    <tr>\n",
       "      <th>2</th>\n",
       "      <td>2</td>\n",
       "      <td>3</td>\n",
       "      <td>0</td>\n",
       "      <td>0</td>\n",
       "      <td>0</td>\n",
       "      <td>0</td>\n",
       "      <td>1</td>\n",
       "      <td>1</td>\n",
       "      <td>0</td>\n",
       "      <td>0</td>\n",
       "      <td>...</td>\n",
       "      <td>0.800</td>\n",
       "      <td>3</td>\n",
       "      <td>10</td>\n",
       "      <td>6</td>\n",
       "      <td>0.700000</td>\n",
       "      <td>11.1707</td>\n",
       "      <td>5140.0</td>\n",
       "      <td>0.666667</td>\n",
       "      <td>2</td>\n",
       "      <td>0</td>\n",
       "    </tr>\n",
       "    <tr>\n",
       "      <th>3</th>\n",
       "      <td>3</td>\n",
       "      <td>4</td>\n",
       "      <td>0</td>\n",
       "      <td>1</td>\n",
       "      <td>0</td>\n",
       "      <td>1</td>\n",
       "      <td>1</td>\n",
       "      <td>1</td>\n",
       "      <td>0</td>\n",
       "      <td>0</td>\n",
       "      <td>...</td>\n",
       "      <td>0.825</td>\n",
       "      <td>5</td>\n",
       "      <td>5</td>\n",
       "      <td>6</td>\n",
       "      <td>0.433333</td>\n",
       "      <td>8.0488</td>\n",
       "      <td>1028.0</td>\n",
       "      <td>0.766667</td>\n",
       "      <td>3</td>\n",
       "      <td>0</td>\n",
       "    </tr>\n",
       "    <tr>\n",
       "      <th>4</th>\n",
       "      <td>4</td>\n",
       "      <td>5</td>\n",
       "      <td>0</td>\n",
       "      <td>0</td>\n",
       "      <td>0</td>\n",
       "      <td>0</td>\n",
       "      <td>0</td>\n",
       "      <td>1</td>\n",
       "      <td>0</td>\n",
       "      <td>0</td>\n",
       "      <td>...</td>\n",
       "      <td>0.800</td>\n",
       "      <td>0</td>\n",
       "      <td>11</td>\n",
       "      <td>5</td>\n",
       "      <td>0.700000</td>\n",
       "      <td>5.5854</td>\n",
       "      <td>5140.0</td>\n",
       "      <td>0.733333</td>\n",
       "      <td>3</td>\n",
       "      <td>0</td>\n",
       "    </tr>\n",
       "  </tbody>\n",
       "</table>\n",
       "<p>5 rows × 84 columns</p>\n",
       "</div>"
      ],
      "text/plain": [
       "   Unnamed: 0  id  ib_var_1  ib_var_2  ib_var_3  ib_var_4  ib_var_5  ib_var_6  \\\n",
       "0           0   1         0         1         0         0         1         1   \n",
       "1           1   2         0         1         0         0         0         1   \n",
       "2           2   3         0         0         0         0         1         1   \n",
       "3           3   4         0         1         0         1         1         1   \n",
       "4           4   5         0         0         0         0         0         1   \n",
       "\n",
       "   ib_var_7  ib_var_8  ...  if_var_73  if_var_74  if_var_75  if_var_76  \\\n",
       "0         0         0  ...      0.800          0          6          5   \n",
       "1         0         0  ...      0.925          5          8          5   \n",
       "2         0         0  ...      0.800          3         10          6   \n",
       "3         0         0  ...      0.825          5          5          6   \n",
       "4         0         0  ...      0.800          0         11          5   \n",
       "\n",
       "   if_var_77  if_var_78  if_var_79  if_var_80  if_var_81  ob_target  \n",
       "0   0.500000     9.4634     5140.0   0.766667          1          0  \n",
       "1   0.400000     7.6341     2570.0   0.700000          4          0  \n",
       "2   0.700000    11.1707     5140.0   0.666667          2          0  \n",
       "3   0.433333     8.0488     1028.0   0.766667          3          0  \n",
       "4   0.700000     5.5854     5140.0   0.733333          3          0  \n",
       "\n",
       "[5 rows x 84 columns]"
      ]
     },
     "execution_count": 2,
     "metadata": {},
     "output_type": "execute_result"
    }
   ],
   "source": [
    "df_train.head()"
   ]
  },
  {
   "cell_type": "code",
   "execution_count": 3,
   "metadata": {},
   "outputs": [
    {
     "name": "stdout",
     "output_type": "stream",
     "text": [
      "(2967, 84)\n"
     ]
    },
    {
     "data": {
      "text/html": [
       "<div>\n",
       "<style scoped>\n",
       "    .dataframe tbody tr th:only-of-type {\n",
       "        vertical-align: middle;\n",
       "    }\n",
       "\n",
       "    .dataframe tbody tr th {\n",
       "        vertical-align: top;\n",
       "    }\n",
       "\n",
       "    .dataframe thead th {\n",
       "        text-align: right;\n",
       "    }\n",
       "</style>\n",
       "<table border=\"1\" class=\"dataframe\">\n",
       "  <thead>\n",
       "    <tr style=\"text-align: right;\">\n",
       "      <th></th>\n",
       "      <th>Unnamed: 0</th>\n",
       "      <th>id</th>\n",
       "      <th>ib_var_1</th>\n",
       "      <th>ib_var_2</th>\n",
       "      <th>ib_var_3</th>\n",
       "      <th>ib_var_4</th>\n",
       "      <th>ib_var_5</th>\n",
       "      <th>ib_var_6</th>\n",
       "      <th>ib_var_7</th>\n",
       "      <th>ib_var_8</th>\n",
       "      <th>...</th>\n",
       "      <th>if_var_73</th>\n",
       "      <th>if_var_74</th>\n",
       "      <th>if_var_75</th>\n",
       "      <th>if_var_76</th>\n",
       "      <th>if_var_77</th>\n",
       "      <th>if_var_78</th>\n",
       "      <th>if_var_79</th>\n",
       "      <th>if_var_80</th>\n",
       "      <th>if_var_81</th>\n",
       "      <th>contract_date</th>\n",
       "    </tr>\n",
       "  </thead>\n",
       "  <tbody>\n",
       "    <tr>\n",
       "      <th>0</th>\n",
       "      <td>0</td>\n",
       "      <td>1</td>\n",
       "      <td>0</td>\n",
       "      <td>1</td>\n",
       "      <td>0</td>\n",
       "      <td>0</td>\n",
       "      <td>1</td>\n",
       "      <td>0</td>\n",
       "      <td>0</td>\n",
       "      <td>0</td>\n",
       "      <td>...</td>\n",
       "      <td>0.775</td>\n",
       "      <td>1.0</td>\n",
       "      <td>10.0</td>\n",
       "      <td>11.0</td>\n",
       "      <td>0.666667</td>\n",
       "      <td>NaN</td>\n",
       "      <td>5140.000000</td>\n",
       "      <td>0.666667</td>\n",
       "      <td>3</td>\n",
       "      <td>20-Sep-12</td>\n",
       "    </tr>\n",
       "    <tr>\n",
       "      <th>1</th>\n",
       "      <td>1</td>\n",
       "      <td>2</td>\n",
       "      <td>1</td>\n",
       "      <td>0</td>\n",
       "      <td>0</td>\n",
       "      <td>0</td>\n",
       "      <td>1</td>\n",
       "      <td>1</td>\n",
       "      <td>0</td>\n",
       "      <td>0</td>\n",
       "      <td>...</td>\n",
       "      <td>0.750</td>\n",
       "      <td>0.0</td>\n",
       "      <td>8.0</td>\n",
       "      <td>10.0</td>\n",
       "      <td>0.600000</td>\n",
       "      <td>12.9024</td>\n",
       "      <td>5140.000000</td>\n",
       "      <td>0.733333</td>\n",
       "      <td>0</td>\n",
       "      <td>24-Sep-12</td>\n",
       "    </tr>\n",
       "    <tr>\n",
       "      <th>2</th>\n",
       "      <td>2</td>\n",
       "      <td>3</td>\n",
       "      <td>0</td>\n",
       "      <td>0</td>\n",
       "      <td>0</td>\n",
       "      <td>0</td>\n",
       "      <td>1</td>\n",
       "      <td>1</td>\n",
       "      <td>0</td>\n",
       "      <td>0</td>\n",
       "      <td>...</td>\n",
       "      <td>0.725</td>\n",
       "      <td>0.0</td>\n",
       "      <td>8.0</td>\n",
       "      <td>6.0</td>\n",
       "      <td>0.700000</td>\n",
       "      <td>NaN</td>\n",
       "      <td>2570.000000</td>\n",
       "      <td>0.766667</td>\n",
       "      <td>1</td>\n",
       "      <td>19-Sep-12</td>\n",
       "    </tr>\n",
       "    <tr>\n",
       "      <th>3</th>\n",
       "      <td>3</td>\n",
       "      <td>4</td>\n",
       "      <td>0</td>\n",
       "      <td>1</td>\n",
       "      <td>0</td>\n",
       "      <td>1</td>\n",
       "      <td>1</td>\n",
       "      <td>1</td>\n",
       "      <td>0</td>\n",
       "      <td>0</td>\n",
       "      <td>...</td>\n",
       "      <td>0.925</td>\n",
       "      <td>2.0</td>\n",
       "      <td>7.0</td>\n",
       "      <td>5.0</td>\n",
       "      <td>0.566667</td>\n",
       "      <td>15.5366</td>\n",
       "      <td>2056.000000</td>\n",
       "      <td>0.833333</td>\n",
       "      <td>0</td>\n",
       "      <td>20-Sep-12</td>\n",
       "    </tr>\n",
       "    <tr>\n",
       "      <th>4</th>\n",
       "      <td>4</td>\n",
       "      <td>5</td>\n",
       "      <td>1</td>\n",
       "      <td>0</td>\n",
       "      <td>0</td>\n",
       "      <td>1</td>\n",
       "      <td>1</td>\n",
       "      <td>1</td>\n",
       "      <td>0</td>\n",
       "      <td>0</td>\n",
       "      <td>...</td>\n",
       "      <td>0.925</td>\n",
       "      <td>0.0</td>\n",
       "      <td>10.0</td>\n",
       "      <td>7.0</td>\n",
       "      <td>0.333333</td>\n",
       "      <td>17.8293</td>\n",
       "      <td>4728.799805</td>\n",
       "      <td>0.633333</td>\n",
       "      <td>2</td>\n",
       "      <td>25-Sep-12</td>\n",
       "    </tr>\n",
       "  </tbody>\n",
       "</table>\n",
       "<p>5 rows × 84 columns</p>\n",
       "</div>"
      ],
      "text/plain": [
       "   Unnamed: 0  id  ib_var_1  ib_var_2  ib_var_3  ib_var_4  ib_var_5  ib_var_6  \\\n",
       "0           0   1         0         1         0         0         1         0   \n",
       "1           1   2         1         0         0         0         1         1   \n",
       "2           2   3         0         0         0         0         1         1   \n",
       "3           3   4         0         1         0         1         1         1   \n",
       "4           4   5         1         0         0         1         1         1   \n",
       "\n",
       "   ib_var_7  ib_var_8  ...  if_var_73  if_var_74  if_var_75  if_var_76  \\\n",
       "0         0         0  ...      0.775        1.0       10.0       11.0   \n",
       "1         0         0  ...      0.750        0.0        8.0       10.0   \n",
       "2         0         0  ...      0.725        0.0        8.0        6.0   \n",
       "3         0         0  ...      0.925        2.0        7.0        5.0   \n",
       "4         0         0  ...      0.925        0.0       10.0        7.0   \n",
       "\n",
       "   if_var_77  if_var_78    if_var_79  if_var_80  if_var_81  contract_date  \n",
       "0   0.666667        NaN  5140.000000   0.666667          3      20-Sep-12  \n",
       "1   0.600000    12.9024  5140.000000   0.733333          0      24-Sep-12  \n",
       "2   0.700000        NaN  2570.000000   0.766667          1      19-Sep-12  \n",
       "3   0.566667    15.5366  2056.000000   0.833333          0      20-Sep-12  \n",
       "4   0.333333    17.8293  4728.799805   0.633333          2      25-Sep-12  \n",
       "\n",
       "[5 rows x 84 columns]"
      ]
     },
     "execution_count": 3,
     "metadata": {},
     "output_type": "execute_result"
    }
   ],
   "source": [
    "print(df_test.shape)\n",
    "df_test.head()"
   ]
  },
  {
   "cell_type": "code",
   "execution_count": 4,
   "metadata": {},
   "outputs": [],
   "source": [
    "df_train = df_train.drop(['id', 'Unnamed: 0'], axis=1)\n",
    "df_test = df_test.drop(['id', 'Unnamed: 0', 'contract_date'], axis=1)"
   ]
  },
  {
   "cell_type": "code",
   "execution_count": 5,
   "metadata": {},
   "outputs": [
    {
     "data": {
      "text/html": [
       "<div>\n",
       "<style scoped>\n",
       "    .dataframe tbody tr th:only-of-type {\n",
       "        vertical-align: middle;\n",
       "    }\n",
       "\n",
       "    .dataframe tbody tr th {\n",
       "        vertical-align: top;\n",
       "    }\n",
       "\n",
       "    .dataframe thead th {\n",
       "        text-align: right;\n",
       "    }\n",
       "</style>\n",
       "<table border=\"1\" class=\"dataframe\">\n",
       "  <thead>\n",
       "    <tr style=\"text-align: right;\">\n",
       "      <th></th>\n",
       "      <th>Class</th>\n",
       "      <th>Percentage</th>\n",
       "    </tr>\n",
       "  </thead>\n",
       "  <tbody>\n",
       "    <tr>\n",
       "      <th>0</th>\n",
       "      <td>0</td>\n",
       "      <td>89.814815</td>\n",
       "    </tr>\n",
       "    <tr>\n",
       "      <th>1</th>\n",
       "      <td>1</td>\n",
       "      <td>10.185185</td>\n",
       "    </tr>\n",
       "  </tbody>\n",
       "</table>\n",
       "</div>"
      ],
      "text/plain": [
       "   Class  Percentage\n",
       "0      0   89.814815\n",
       "1      1   10.185185"
      ]
     },
     "execution_count": 5,
     "metadata": {},
     "output_type": "execute_result"
    }
   ],
   "source": [
    "target_counts = df_train['ob_target'].value_counts(normalize=True) * 100  \n",
    "\n",
    "target_percentages = target_counts.reset_index()\n",
    "target_percentages.columns = ['Class', 'Percentage']\n",
    "\n",
    "target_percentages"
   ]
  },
  {
   "cell_type": "markdown",
   "metadata": {
    "jp-MarkdownHeadingCollapsed": true,
    "tags": []
   },
   "source": [
    "#### Plots"
   ]
  },
  {
   "cell_type": "code",
   "execution_count": 6,
   "metadata": {},
   "outputs": [],
   "source": [
    "# import matplotlib.pyplot as plt\n",
    "\n",
    "# df_train.hist(bins=50, figsize=(30, 30))\n",
    "\n",
    "# plt.show()"
   ]
  },
  {
   "cell_type": "code",
   "execution_count": 7,
   "metadata": {},
   "outputs": [],
   "source": [
    "# df_test.hist(bins=50, figsize=(30, 30))\n",
    "\n",
    "# plt.show()"
   ]
  },
  {
   "cell_type": "markdown",
   "metadata": {},
   "source": [
    "#### Nulls"
   ]
  },
  {
   "cell_type": "code",
   "execution_count": 6,
   "metadata": {},
   "outputs": [
    {
     "name": "stdout",
     "output_type": "stream",
     "text": [
      "No Nulls on df_train\n"
     ]
    }
   ],
   "source": [
    "# nulls for df_train\n",
    "\n",
    "# Calculating the number of missing values for each column\n",
    "missing_values = df_train.isnull().sum()\n",
    "\n",
    "# Displaying the missing values count for each column\n",
    "missing_values = missing_values[missing_values > 0]\n",
    "\n",
    "if len(missing_values) == 0:\n",
    "    print(\"No Nulls on df_train\")\n",
    "else:\n",
    "    print(missing_values[missing_values > 0].index)"
   ]
  },
  {
   "cell_type": "code",
   "execution_count": 7,
   "metadata": {},
   "outputs": [
    {
     "name": "stdout",
     "output_type": "stream",
     "text": [
      "Index(['ib_var_15', 'ib_var_16', 'ib_var_17', 'ib_var_18', 'ib_var_19',\n",
      "       'ib_var_20', 'ib_var_21', 'icn_var_22', 'icn_var_24', 'ico_var_26',\n",
      "       'ico_var_33', 'ico_var_37', 'if_var_78'],\n",
      "      dtype='object') \n",
      "\n",
      "ib_var_15      1\n",
      "ib_var_16      1\n",
      "ib_var_17      1\n",
      "ib_var_18      1\n",
      "ib_var_19      1\n",
      "ib_var_20      1\n",
      "ib_var_21      1\n",
      "icn_var_22    72\n",
      "icn_var_24    20\n",
      "ico_var_26     1\n",
      "ico_var_33     1\n",
      "ico_var_37     1\n",
      "if_var_78     15\n",
      "dtype: int64\n"
     ]
    }
   ],
   "source": [
    "# nulls for df_test\n",
    "\n",
    "# Calculating the number of missing values for each column\n",
    "missing_values = df_test.isnull().sum()\n",
    "missing_values = missing_values[missing_values > 0]\n",
    "# Displaying the missing values count for each column\n",
    "\n",
    "if len(missing_values) == 0:\n",
    "    print(\"No Nulls on df_test\")\n",
    "else:\n",
    "    print(missing_values[missing_values > 0].index, \"\\n\")\n",
    "    print(missing_values[missing_values > 0])"
   ]
  },
  {
   "cell_type": "code",
   "execution_count": 9,
   "metadata": {},
   "outputs": [],
   "source": [
    "ib_var_cols = [f\"ib_var_{i}\" for i in range(15, 22)]\n",
    "df_test[ib_var_cols] = df_test[ib_var_cols].fillna((df_test[ib_var_cols].median()))\n",
    "#df_test[ib_var_cols] = df_test[ib_var_cols].fillna(df_test[ib_var_cols].mode().iloc[0])\n",
    "\n",
    "icn_var_cols = [f\"icn_var_{i}\" for i in range(22, 25)]\n",
    "df_test[icn_var_cols] = df_test[icn_var_cols].fillna((df_test[icn_var_cols].median()))\n",
    "#df_test[icn_var_cols] = df_test[icn_var_cols].fillna(df_test[icn_var_cols].mode().iloc[0])\n",
    "\n",
    "ico_var_cols = [f\"ico_var_{i}\" for i in range(26, 38)]\n",
    "df_test[ico_var_cols] = df_test[ico_var_cols].fillna((df_test[ico_var_cols].mean()))\n",
    "\n",
    "if_var_cols = ['if_var_78']\n",
    "df_test[if_var_cols] = df_test[if_var_cols].fillna(df_test[if_var_cols].mean())"
   ]
  },
  {
   "cell_type": "code",
   "execution_count": 10,
   "metadata": {},
   "outputs": [],
   "source": [
    "# df_test = df_test.fillna(df_test.mode().iloc[0])\n",
    "\n",
    "# columns_with_single_null = df_test.columns[df_test.isnull().sum() == 1]\n",
    "\n",
    "# df_test = df_test.dropna(subset=columns_with_single_null)\n",
    "\n",
    "# for column in df_test.columns[df_test.isnull().any()]:\n",
    "#     median = df_test[column].median()\n",
    "#     df_test[column] = df_test[column].fillna(median)"
   ]
  },
  {
   "cell_type": "code",
   "execution_count": 11,
   "metadata": {},
   "outputs": [],
   "source": [
    "# print (\"STEP 1: DOING MY TRANSFORMATIONS...\")\n",
    "# df_train = df_train.fillna(0)\n",
    "# df_test = df_test.fillna(0)\n",
    "\n",
    "# df_train = df_train.drop(['id'], axis=1)\n",
    "# df_test = df_test.drop(['id', 'contract_date'], axis=1)"
   ]
  },
  {
   "cell_type": "markdown",
   "metadata": {
    "jp-MarkdownHeadingCollapsed": true,
    "tags": []
   },
   "source": [
    "#### SMOTE"
   ]
  },
  {
   "cell_type": "code",
   "execution_count": 12,
   "metadata": {},
   "outputs": [],
   "source": [
    "# pip install imbalanced-learn"
   ]
  },
  {
   "cell_type": "code",
   "execution_count": 7,
   "metadata": {},
   "outputs": [],
   "source": [
    "# from imblearn.over_sampling import SMOTE\n",
    "# from sklearn.model_selection import train_test_split\n",
    "# import pandas as pd\n",
    "\n",
    "# # Asumiendo que 'ob_target' es tu variable objetivo\n",
    "# X = df_train.drop('ob_target', axis=1)  # Características\n",
    "# y = df_train['ob_target']  # Variable objetivo\n",
    "\n",
    "# # Dividir los datos en conjuntos de entrenamiento y prueba\n",
    "# #X_train, X_test, y_train, y_test = train_test_split(X, y, test_size=0.40, random_state=42)\n",
    "\n",
    "# # Crear un objeto SMOTE\n",
    "# smote = SMOTE(sampling_strategy=0.25, random_state=99)\n",
    "\n",
    "# # Aplicar SMOTE solo al conjunto de entrenamiento\n",
    "# X_train_smote, y_train_smote = smote.fit_resample(X,y)\n",
    "\n",
    "# df_train = pd.concat([X_train_smote, y_train_smote], axis=1)"
   ]
  },
  {
   "cell_type": "markdown",
   "metadata": {
    "jp-MarkdownHeadingCollapsed": true,
    "tags": []
   },
   "source": [
    "#### Scaling"
   ]
  },
  {
   "cell_type": "code",
   "execution_count": 6,
   "metadata": {},
   "outputs": [],
   "source": [
    "# column_names = df_train.columns\n",
    "# index = df_train.index"
   ]
  },
  {
   "cell_type": "code",
   "execution_count": 7,
   "metadata": {},
   "outputs": [],
   "source": [
    "# from sklearn.preprocessing import StandardScaler\n",
    "# import pandas as pd\n",
    "\n",
    "# column_names = df_train.columns\n",
    "# index = df_train.index\n",
    "\n",
    "# scaler = StandardScaler()\n",
    "# df_train_scaled = scaler.fit_transform(df_train)\n",
    "\n",
    "# df_train = pd.DataFrame(df_train_scaled, columns=column_names, index=index)"
   ]
  },
  {
   "cell_type": "markdown",
   "metadata": {},
   "source": [
    "#### Step 2 & 3"
   ]
  },
  {
   "cell_type": "code",
   "execution_count": 11,
   "metadata": {},
   "outputs": [
    {
     "name": "stdout",
     "output_type": "stream",
     "text": [
      "STEP 2: SELECTING CHARACTERISTICS TO ENTER INTO THE MODEL...\n"
     ]
    }
   ],
   "source": [
    "print (\"STEP 2: SELECTING CHARACTERISTICS TO ENTER INTO THE MODEL...\")\n",
    "def get_specific_columns(df, data_types, to_ignore = list(), ignore_target = False):\n",
    "    columns = df.select_dtypes(include=data_types).columns\n",
    "    if ignore_target:\n",
    "        columns = filter(lambda x: x not in to_ignore, list(columns))\n",
    "    return list(columns)\n",
    "\n",
    "output_var = df_train.columns[-1]\n",
    "in_model = get_specific_columns(df_train, [\"float64\", \"int64\"], [output_var], ignore_target = True)"
   ]
  },
  {
   "cell_type": "code",
   "execution_count": 12,
   "metadata": {},
   "outputs": [
    {
     "name": "stdout",
     "output_type": "stream",
     "text": [
      "STEP 3: DEVELOPING THE MODEL...\n"
     ]
    }
   ],
   "source": [
    "print (\"STEP 3: DEVELOPING THE MODEL...\")\n",
    "X_train = df_train[in_model]\n",
    "y_train = df_train[output_var]\n",
    "X_test = df_test[in_model]"
   ]
  },
  {
   "cell_type": "markdown",
   "metadata": {},
   "source": [
    "#### Model"
   ]
  },
  {
   "cell_type": "code",
   "execution_count": 13,
   "metadata": {},
   "outputs": [],
   "source": [
    "# pip install deap"
   ]
  },
  {
   "cell_type": "markdown",
   "metadata": {},
   "source": [
    "#### RF "
   ]
  },
  {
   "cell_type": "code",
   "execution_count": 8,
   "metadata": {
    "tags": []
   },
   "outputs": [],
   "source": [
    "# from sklearn.ensemble import RandomForestClassifier\n",
    "# from sklearn.model_selection import GridSearchCV\n",
    "\n",
    "# # Hiperparámetros para probar en la búsqueda en cuadrícula\n",
    "# param_grid = {\n",
    "#     'n_estimators': [10, 100, 250, 500, 750],\n",
    "#     'max_depth': [ 40, 60, 80, 100, 150],\n",
    "#     'min_samples_split': [5, 10, 20, 50, 100],\n",
    "#     'min_samples_leaf': [1, 5, 10, 50, 100]\n",
    "# }\n",
    "\n",
    "# # Crear el modelo de RandomForest\n",
    "# rfc = RandomForestClassifier(class_weight={0: 1, 1: 5}, random_state=99)\n",
    "\n",
    "# # Configurar GridSearchCV con AUC como métrica de scoring\n",
    "# grid_search = GridSearchCV(estimator=rfc, param_grid=param_grid, cv=5, n_jobs=-1, verbose=1, scoring='roc_auc')\n",
    "\n",
    "# # Ajustar GridSearchCV\n",
    "# grid_search.fit(X_train, y_train)\n",
    "\n",
    "# # Mejores parámetros\n",
    "# best_params = grid_search.best_params_\n",
    "# print(\"Mejores parámetros:\", best_params)\n",
    "\n",
    "# # Mejor modelo\n",
    "# best_model = grid_search.best_estimator_\n",
    "\n",
    "# # Hacer predicciones con el mejor modelo\n",
    "# pred_train = best_model.predict_proba(X_train)[:, 1]\n",
    "# pred_test = best_model.predict_proba(X_test)[:, 1]\n"
   ]
  },
  {
   "cell_type": "code",
   "execution_count": 171,
   "metadata": {},
   "outputs": [],
   "source": [
    "from sklearn.linear_model import LogisticRegression\n",
    "from sklearn.ensemble import RandomForestClassifier\n",
    "\n",
    "# clf = LogisticRegression(random_state=0, solver='lbfgs')\n",
    "rfc = RandomForestClassifier(class_weight={0: 1, 1: 5}, \n",
    "                             n_estimators= 700,\n",
    "                             max_depth = None,\n",
    "                             random_state=77)\n",
    "fitted_model = rfc.fit(X_train, y_train)\n",
    "pred_train = fitted_model.predict_proba(X_train)[:,1]\n",
    "pred_test  = fitted_model.predict_proba(X_test)[:,1]"
   ]
  },
  {
   "cell_type": "markdown",
   "metadata": {
    "jp-MarkdownHeadingCollapsed": true,
    "tags": []
   },
   "source": [
    "#### Feature Importance"
   ]
  },
  {
   "cell_type": "code",
   "execution_count": 55,
   "metadata": {},
   "outputs": [],
   "source": [
    "importances = rfc.feature_importances_"
   ]
  },
  {
   "cell_type": "code",
   "execution_count": 56,
   "metadata": {},
   "outputs": [
    {
     "data": {
      "image/png": "[encoded data removed]",
      "text/plain": [
       "<Figure size 1200x600 with 1 Axes>"
      ]
     },
     "metadata": {},
     "output_type": "display_data"
    }
   ],
   "source": [
    "import matplotlib.pyplot as plt\n",
    "import numpy as np\n",
    "\n",
    "# Nombres de las variables\n",
    "feature_names = X_train.columns\n",
    "\n",
    "# Ordenar las importancias y sus índices\n",
    "indices = np.argsort(importances)[::-1]\n",
    "\n",
    "# Crear la gráfica\n",
    "plt.figure(figsize=(12, 6))\n",
    "plt.title(\"Feature Importances\")\n",
    "plt.bar(range(X_train.shape[1]), importances[indices], align=\"center\")\n",
    "plt.xticks(range(X_train.shape[1]), feature_names[indices], rotation=90)\n",
    "plt.xlim([-1, X_train.shape[1]])\n",
    "plt.show()"
   ]
  },
  {
   "cell_type": "code",
   "execution_count": 57,
   "metadata": {},
   "outputs": [
    {
     "data": {
      "image/png": "[encoded data removed]",
      "text/plain": [
       "<Figure size 1200x600 with 1 Axes>"
      ]
     },
     "metadata": {},
     "output_type": "display_data"
    }
   ],
   "source": [
    "import matplotlib.pyplot as plt\n",
    "import numpy as np\n",
    "\n",
    "importances = rfc.feature_importances_\n",
    "\n",
    "# Ordenar las importancias y sus índices\n",
    "indices = np.argsort(importances)[::-1]\n",
    "\n",
    "# Calcular la suma acumulada de las importancias\n",
    "cumulative_importances = np.cumsum(importances[indices])\n",
    "\n",
    "# Crear la gráfica\n",
    "plt.figure(figsize=(12, 6))\n",
    "plt.title(\"Importancia Acumulada de las Variables (Cumulative Feature Importances)\")\n",
    "plt.bar(range(X_train.shape[1]), cumulative_importances, align=\"center\")\n",
    "plt.xticks(range(X_train.shape[1]), X_train.columns[indices], rotation=90)\n",
    "plt.xlim([-1, X_train.shape[1]])\n",
    "plt.xlabel('Variable')\n",
    "plt.ylabel('Importancia Acumulada')\n",
    "\n",
    "# Dibujar una línea en el 95% de la importancia total\n",
    "plt.hlines(y=0.8, xmin=0, xmax=len(cumulative_importances), colors='r', linestyles='dashed')\n",
    "\n",
    "plt.show()"
   ]
  },
  {
   "cell_type": "code",
   "execution_count": 58,
   "metadata": {},
   "outputs": [],
   "source": [
    "# Calculando la suma acumulada de las importancias\n",
    "cumulative_importances = np.cumsum(importances[indices])\n",
    "\n",
    "# Encontrar el número de características para el 80% de la importancia total\n",
    "n_features_80_percent = np.where(cumulative_importances >= 0.8)[0][0] + 1\n",
    "\n",
    "# Las variables más importantes\n",
    "important_feature_names = feature_names[indices[:n_features_80_percent]]"
   ]
  },
  {
   "cell_type": "code",
   "execution_count": 59,
   "metadata": {},
   "outputs": [],
   "source": [
    "# Ajustar X_train y X_test\n",
    "X_train_reduced = X_train[important_feature_names]\n",
    "X_test_reduced = X_test[important_feature_names]"
   ]
  },
  {
   "cell_type": "code",
   "execution_count": 60,
   "metadata": {},
   "outputs": [],
   "source": [
    "# Crear y entrenar el modelo con las variables seleccionadas\n",
    "rfc_reduced = RandomForestClassifier(class_weight={0: 1, 1: 5}, n_estimators= 700, max_depth = 50, random_state=100)\n",
    "rfc_reduced.fit(X_train_reduced, y_train)\n",
    "\n",
    "# Hacer predicciones con el modelo reentrenado\n",
    "pred_train = rfc_reduced.predict_proba(X_train_reduced)[:, 1]\n",
    "pred_test = rfc_reduced.predict_proba(X_test_reduced)[:, 1]"
   ]
  },
  {
   "cell_type": "markdown",
   "metadata": {},
   "source": [
    "#### Final result"
   ]
  },
  {
   "cell_type": "code",
   "execution_count": 172,
   "metadata": {},
   "outputs": [
    {
     "name": "stdout",
     "output_type": "stream",
     "text": [
      "STEP 4: ASSESSING THE MODEL...\n",
      "GINI DEVELOPMENT= 1.0\n"
     ]
    }
   ],
   "source": [
    "print (\"STEP 4: ASSESSING THE MODEL...\")\n",
    "# CALCULATING GINI PERFORMANCE ON DEVELOPMENT SAMPLE\n",
    "from sklearn.metrics import roc_auc_score\n",
    "gini_score = 2*roc_auc_score(y_train, pred_train)-1\n",
    "print (\"GINI DEVELOPMENT=\", gini_score)"
   ]
  },
  {
   "cell_type": "markdown",
   "metadata": {},
   "source": [
    "WHAT IS GINI?\n",
    "* watch this video for reference: https://youtu.be/MiBUBVUC8kE\n"
   ]
  },
  {
   "cell_type": "code",
   "execution_count": 174,
   "metadata": {},
   "outputs": [
    {
     "name": "stdout",
     "output_type": "stream",
     "text": [
      "STEP 5: SUBMITTING THE RESULTS... DO NOT CHANGE THIS PART!\n",
      "RESULT SUBMISSION:  Competition / competición: 6aQ6IxU7Va - gini = 0.540006146082681\n"
     ]
    }
   ],
   "source": [
    "print (\"STEP 5: SUBMITTING THE RESULTS... DO NOT CHANGE THIS PART!\")\n",
    "import requests\n",
    "from requests.auth import HTTPBasicAuth\n",
    "df_test['pred'] = pred_test\n",
    "df_test['id'] = range(len(df_test))\n",
    "df_test_tosend = df_test[['id','pred']]\n",
    "\n",
    "filename = \"df_test_tosend.csv\"\n",
    "df_test_tosend.to_csv(filename, sep=',')\n",
    "url = 'http://manoelutad.pythonanywhere.com/uploadpredictions/6aQ6IxU7Va'\n",
    "files = {'file': (filename, open(filename, 'rb')),\n",
    "         'ipynbcode': ('6aQ6IxU7Va.ipynb', open('6aQ6IxU7Va.ipynb', 'rb'))}\n",
    "\n",
    "#rsub = requests.post(url, files=files)\n",
    "rsub = requests.post(url, files=files, auth=HTTPBasicAuth(\"lggago\", \"sha256$CY0UhSjv$fab0bad4f819d2dcb6bbf8ff0df8dcdf600eff512c7eb0d5ab4fc603ce5b4e26\"))\n",
    "resp_str = str(rsub.text)\n",
    "print (\"RESULT SUBMISSION: \", resp_str)"
   ]
  },
  {
   "cell_type": "code",
   "execution_count": 106,
   "metadata": {},
   "outputs": [
    {
     "name": "stdout",
     "output_type": "stream",
     "text": [
      "Entrenando modelo con random_state = 50\n",
      "GINI DEVELOPMENT= 1.0\n",
      "RESULT SUBMISSION:  Competition / competición: 6aQ6IxU7Va - gini = 0.483513017680385\n",
      "Entrenando modelo con random_state = 52\n",
      "GINI DEVELOPMENT= 1.0\n",
      "RESULT SUBMISSION:  <!DOCTYPE HTML PUBLIC \"-//W3C//DTD HTML 3.2 Final//EN\">\n",
      "<title>500 Internal Server Error</title>\n",
      "<h1>Internal Server Error</h1>\n",
      "<p>The server encountered an internal error and was unable to complete your request. Either the server is overloaded or there is an error in the application.</p>\n",
      "\n",
      "Entrenando modelo con random_state = 54\n",
      "GINI DEVELOPMENT= 1.0\n",
      "RESULT SUBMISSION:  Competition / competición: 6aQ6IxU7Va - gini = 0.48017541751772175\n",
      "Entrenando modelo con random_state = 56\n",
      "GINI DEVELOPMENT= 1.0\n",
      "RESULT SUBMISSION:  <!DOCTYPE HTML PUBLIC \"-//W3C//DTD HTML 3.2 Final//EN\">\n",
      "<title>500 Internal Server Error</title>\n",
      "<h1>Internal Server Error</h1>\n",
      "<p>The server encountered an internal error and was unable to complete your request. Either the server is overloaded or there is an error in the application.</p>\n",
      "\n",
      "Entrenando modelo con random_state = 58\n",
      "GINI DEVELOPMENT= 1.0\n",
      "RESULT SUBMISSION:  Competition / competición: 6aQ6IxU7Va - gini = 0.4735706891930611\n",
      "Entrenando modelo con random_state = 60\n",
      "GINI DEVELOPMENT= 1.0\n",
      "RESULT SUBMISSION:  <!DOCTYPE HTML PUBLIC \"-//W3C//DTD HTML 3.2 Final//EN\">\n",
      "<title>500 Internal Server Error</title>\n",
      "<h1>Internal Server Error</h1>\n",
      "<p>The server encountered an internal error and was unable to complete your request. Either the server is overloaded or there is an error in the application.</p>\n",
      "\n",
      "Entrenando modelo con random_state = 62\n",
      "GINI DEVELOPMENT= 0.9999999999999998\n",
      "RESULT SUBMISSION:  Competition / competición: 6aQ6IxU7Va - gini = 0.4726695718075029\n",
      "Entrenando modelo con random_state = 64\n",
      "GINI DEVELOPMENT= 1.0\n",
      "RESULT SUBMISSION:  <!DOCTYPE HTML PUBLIC \"-//W3C//DTD HTML 3.2 Final//EN\">\n",
      "<title>500 Internal Server Error</title>\n",
      "<h1>Internal Server Error</h1>\n",
      "<p>The server encountered an internal error and was unable to complete your request. Either the server is overloaded or there is an error in the application.</p>\n",
      "\n",
      "Entrenando modelo con random_state = 66\n",
      "GINI DEVELOPMENT= 1.0\n",
      "RESULT SUBMISSION:  Competition / competición: 6aQ6IxU7Va - gini = 0.47324490059982094\n",
      "Entrenando modelo con random_state = 68\n",
      "GINI DEVELOPMENT= 1.0\n",
      "RESULT SUBMISSION:  <!DOCTYPE HTML PUBLIC \"-//W3C//DTD HTML 3.2 Final//EN\">\n",
      "<title>500 Internal Server Error</title>\n",
      "<h1>Internal Server Error</h1>\n",
      "<p>The server encountered an internal error and was unable to complete your request. Either the server is overloaded or there is an error in the application.</p>\n",
      "\n",
      "Entrenando modelo con random_state = 70\n",
      "GINI DEVELOPMENT= 1.0\n",
      "RESULT SUBMISSION:  Competition / competición: 6aQ6IxU7Va - gini = 0.47052421926265486\n",
      "Entrenando modelo con random_state = 72\n",
      "GINI DEVELOPMENT= 1.0\n",
      "RESULT SUBMISSION:  Competition / competición: 6aQ6IxU7Va - gini = 0.46310848529099147\n",
      "Entrenando modelo con random_state = 74\n",
      "GINI DEVELOPMENT= 1.0\n",
      "RESULT SUBMISSION:  Competition / competición: 6aQ6IxU7Va - gini = 0.4611780145842381\n",
      "Entrenando modelo con random_state = 76\n",
      "GINI DEVELOPMENT= 1.0\n",
      "RESULT SUBMISSION:  Competition / competición: 6aQ6IxU7Va - gini = 0.45968539450457024\n",
      "Entrenando modelo con random_state = 78\n",
      "GINI DEVELOPMENT= 1.0\n",
      "RESULT SUBMISSION:  Competition / competición: 6aQ6IxU7Va - gini = 0.4569288995277221\n",
      "Entrenando modelo con random_state = 80\n",
      "GINI DEVELOPMENT= 1.0\n",
      "RESULT SUBMISSION:  Competition / competición: 6aQ6IxU7Va - gini = 0.45349425595430626\n",
      "Entrenando modelo con random_state = 82\n",
      "GINI DEVELOPMENT= 1.0\n",
      "RESULT SUBMISSION:  Competition / competición: 6aQ6IxU7Va - gini = 0.4538073364818529\n",
      "Entrenando modelo con random_state = 84\n",
      "GINI DEVELOPMENT= 1.0\n",
      "RESULT SUBMISSION:  Competition / competición: 6aQ6IxU7Va - gini = 0.4550943169530217\n",
      "Entrenando modelo con random_state = 86\n",
      "GINI DEVELOPMENT= 1.0\n",
      "RESULT SUBMISSION:  Competition / competición: 6aQ6IxU7Va - gini = 0.45496723629608415\n",
      "Entrenando modelo con random_state = 88\n",
      "GINI DEVELOPMENT= 0.9999999999999998\n",
      "RESULT SUBMISSION:  Competition / competición: 6aQ6IxU7Va - gini = 0.45428100074862066\n",
      "Entrenando modelo con random_state = 90\n",
      "GINI DEVELOPMENT= 1.0\n",
      "RESULT SUBMISSION:  Competition / competición: 6aQ6IxU7Va - gini = 0.45309452952430274\n",
      "Entrenando modelo con random_state = 92\n",
      "GINI DEVELOPMENT= 1.0\n",
      "RESULT SUBMISSION:  Competition / competición: 6aQ6IxU7Va - gini = 0.4490094640431055\n",
      "Entrenando modelo con random_state = 94\n",
      "GINI DEVELOPMENT= 1.0\n",
      "RESULT SUBMISSION:  Competition / competición: 6aQ6IxU7Va - gini = 0.44577237312729334\n",
      "Entrenando modelo con random_state = 96\n",
      "GINI DEVELOPMENT= 1.0\n",
      "RESULT SUBMISSION:  <!DOCTYPE HTML PUBLIC \"-//W3C//DTD HTML 3.2 Final//EN\">\n",
      "<title>500 Internal Server Error</title>\n",
      "<h1>Internal Server Error</h1>\n",
      "<p>The server encountered an internal error and was unable to complete your request. Either the server is overloaded or there is an error in the application.</p>\n",
      "\n",
      "Entrenando modelo con random_state = 98\n",
      "GINI DEVELOPMENT= 0.9999999999999998\n",
      "RESULT SUBMISSION:  <!DOCTYPE HTML PUBLIC \"-//W3C//DTD HTML 3.2 Final//EN\">\n",
      "<title>500 Internal Server Error</title>\n",
      "<h1>Internal Server Error</h1>\n",
      "<p>The server encountered an internal error and was unable to complete your request. Either the server is overloaded or there is an error in the application.</p>\n",
      "\n",
      "Entrenando modelo con random_state = 100\n",
      "GINI DEVELOPMENT= 1.0\n",
      "RESULT SUBMISSION:  Competition / competición: 6aQ6IxU7Va - gini = 0.44033563156775934\n",
      "Entrenando modelo con random_state = 102\n",
      "GINI DEVELOPMENT= 1.0\n",
      "RESULT SUBMISSION:  Competition / competición: 6aQ6IxU7Va - gini = 0.44001099825321854\n"
     ]
    },
    {
     "ename": "KeyboardInterrupt",
     "evalue": "",
     "output_type": "error",
     "traceback": [
      "\u001b[1;31m---------------------------------------------------------------------------\u001b[0m",
      "\u001b[1;31mKeyboardInterrupt\u001b[0m                         Traceback (most recent call last)",
      "Cell \u001b[1;32mIn[106], line 34\u001b[0m\n\u001b[0;32m     32\u001b[0m resp_str \u001b[38;5;241m=\u001b[39m \u001b[38;5;28mstr\u001b[39m(rsub\u001b[38;5;241m.\u001b[39mtext)\n\u001b[0;32m     33\u001b[0m \u001b[38;5;28mprint\u001b[39m (\u001b[38;5;124m\"\u001b[39m\u001b[38;5;124mRESULT SUBMISSION: \u001b[39m\u001b[38;5;124m\"\u001b[39m, resp_str)\n\u001b[1;32m---> 34\u001b[0m \u001b[43mtime\u001b[49m\u001b[38;5;241;43m.\u001b[39;49m\u001b[43msleep\u001b[49m\u001b[43m(\u001b[49m\u001b[38;5;241;43m5\u001b[39;49m\u001b[43m)\u001b[49m\n",
      "\u001b[1;31mKeyboardInterrupt\u001b[0m: "
     ]
    }
   ],
   "source": [
    "from sklearn.ensemble import RandomForestClassifier\n",
    "from sklearn.metrics import roc_auc_score\n",
    "import requests\n",
    "from requests.auth import HTTPBasicAuth\n",
    "import time \n",
    "\n",
    "for random_states in range(50, 150, 2):\n",
    "    print(f\"Entrenando modelo con random_state = {random_states}\")\n",
    "    rfc = RandomForestClassifier(class_weight={0: 1, 1: random_states}, n_estimators= 700 , max_depth = 40, random_state=77)\n",
    "    fitted_model = rfc.fit(X_train, y_train)\n",
    "    pred_train = fitted_model.predict_proba(X_train)[:,1]\n",
    "    pred_test  = fitted_model.predict_proba(X_test)[:,1]\n",
    "    # CALCULATING GINI PERFORMANCE ON DEVELOPMENT SAMPLE\n",
    "    from sklearn.metrics import roc_auc_score\n",
    "    gini_score = 2*roc_auc_score(y_train, pred_train)-1\n",
    "    print (\"GINI DEVELOPMENT=\", gini_score)\n",
    "    import requests\n",
    "    from requests.auth import HTTPBasicAuth\n",
    "    df_test['pred'] = pred_test\n",
    "    df_test['id'] = range(len(df_test))\n",
    "    df_test_tosend = df_test[['id','pred']]\n",
    "\n",
    "    filename = \"df_test_tosend.csv\"\n",
    "    df_test_tosend.to_csv(filename, sep=',')\n",
    "    url = 'http://manoelutad.pythonanywhere.com/uploadpredictions/6aQ6IxU7Va'\n",
    "    files = {'file': (filename, open(filename, 'rb')),\n",
    "             'ipynbcode': ('6aQ6IxU7Va.ipynb', open('6aQ6IxU7Va.ipynb', 'rb'))}\n",
    "\n",
    "\n",
    "    #rsub = requests.post(url, files=files)\n",
    "    rsub = requests.post(url, files=files, auth=HTTPBasicAuth(\"lggago\", \"sha256$CY0UhSjv$fab0bad4f819d2dcb6bbf8ff0df8dcdf600eff512c7eb0d5ab4fc603ce5b4e26\"))\n",
    "    resp_str = str(rsub.text)\n",
    "    print (\"RESULT SUBMISSION: \", resp_str)\n",
    "    time.sleep(5)"
   ]
  }
 ],
 "metadata": {
  "kernelspec": {
   "display_name": "Python 3 (ipykernel)",
   "language": "python",
   "name": "python3"
  },
  "language_info": {
   "codemirror_mode": {
    "name": "ipython",
    "version": 3
   },
   "file_extension": ".py",
   "mimetype": "text/x-python",
   "name": "python",
   "nbconvert_exporter": "python",
   "pygments_lexer": "ipython3",
   "version": "3.10.11"
  }
 },
 "nbformat": 4,
 "nbformat_minor": 4
}
